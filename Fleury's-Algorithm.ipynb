{
 "cells": [
  {
   "cell_type": "code",
   "execution_count": 3,
   "metadata": {},
   "outputs": [
    {
     "name": "stdout",
     "output_type": "stream",
     "text": [
      "1-2 2-3 3-6 6-2 2-7 7-6 6-5 5-1 1-8 8-5 5-4 4-1 "
     ]
    }
   ],
   "source": [
    "from collections import defaultdict\n",
    "\n",
    "class Graph:\n",
    "    def __init__(self, vertices):\n",
    "        self.V = vertices\n",
    "        self.adj = defaultdict(list)\n",
    "\n",
    "    def addEdge(self, u, v):\n",
    "        self.adj[u-1].append(v-1)\n",
    "        self.adj[v-1].append(u-1)\n",
    "\n",
    "    def removeEdge(self, u, v):\n",
    "        self.adj[u-1].remove(v-1)\n",
    "        self.adj[v-1].remove(u-1)\n",
    "\n",
    "    def dfsCount(self, v, visited):\n",
    "        count = 1\n",
    "        visited[v-1] = True\n",
    "        for i in self.adj[v-1]:\n",
    "            if not visited[i]:\n",
    "                count += self.dfsCount(i+1, visited)\n",
    "                \n",
    "        return count\n",
    "\n",
    "    def isValidNextEdge(self, u, v):\n",
    "        if len(self.adj[u-1]) == 1:\n",
    "            return True\n",
    "        else:\n",
    "            visited = [False] * (self.V)\n",
    "            count1 = self.dfsCount(u, visited)\n",
    "\n",
    "            self.removeEdge(u,v)\n",
    "            visited = [False] * (self.V)\n",
    "            count2 = self.dfsCount(u, visited)\n",
    "\n",
    "            # Adding the edge back as it is a temporary removal for testing condition.\n",
    "            self.addEdge(u,v)\n",
    "\n",
    "            return False if count1 > count2 else True\n",
    "\n",
    "    def fleury(self,u):\n",
    "        \n",
    "      for v in self.adj[u-1]: \n",
    "          if self.isValidNextEdge(u,v+1): \n",
    "              print(\"%d-%d \" %(u,v+1), end='') \n",
    "              self.removeEdge(u,v+1) \n",
    "              self.fleury(v+1) \n",
    "\n",
    "# Create a graph given in above figure\n",
    "g= Graph(8)\n",
    "g.addEdge(1, 2)\n",
    "g.addEdge(1, 8)\n",
    "g.addEdge(1, 4)\n",
    "g.addEdge(1, 5)\n",
    "\n",
    "g.addEdge(2, 3)\n",
    "g.addEdge(2 ,6 )\n",
    "g.addEdge(2 ,7 )\n",
    "\n",
    "g.addEdge(3, 6)\n",
    "\n",
    "g.addEdge(4 ,5 )\n",
    "\n",
    "g.addEdge(5 ,6 )\n",
    "g.addEdge(5 ,8 )\n",
    "\n",
    "g.addEdge(6 ,7 )\n",
    "\n",
    "g.fleury(1)\n"
   ]
  },
  {
   "cell_type": "code",
   "execution_count": null,
   "metadata": {},
   "outputs": [],
   "source": []
  }
 ],
 "metadata": {
  "kernelspec": {
   "display_name": "base",
   "language": "python",
   "name": "python3"
  },
  "language_info": {
   "codemirror_mode": {
    "name": "ipython",
    "version": 3
   },
   "file_extension": ".py",
   "mimetype": "text/x-python",
   "name": "python",
   "nbconvert_exporter": "python",
   "pygments_lexer": "ipython3",
   "version": "3.9.13"
  }
 },
 "nbformat": 4,
 "nbformat_minor": 2
}
