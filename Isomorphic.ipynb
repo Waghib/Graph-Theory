{
 "cells": [
  {
   "cell_type": "code",
   "execution_count": 3,
   "metadata": {},
   "outputs": [
    {
     "name": "stdout",
     "output_type": "stream",
     "text": [
      "Both graphs are isomorphic!\n"
     ]
    }
   ],
   "source": [
    "from itertools import permutations\n",
    "\n",
    "def create_adjacency_matrix(graph): # creating adjacency matrix\n",
    "    nodes = sorted(graph.keys())\n",
    "    matrix = []\n",
    "    for n in nodes:\n",
    "        row = []\n",
    "        for node in nodes:\n",
    "            if node in graph[n]:\n",
    "                row.append(1)\n",
    "            else:\n",
    "                row.append(0)\n",
    "        matrix.append(row)\n",
    "    return matrix\n",
    "\n",
    "def are_isomorphic(G1, G2):\n",
    "    # checking if the two graphs have the same number of vertices\n",
    "    if len(G1) != len(G2):\n",
    "        return False\n",
    "\n",
    "    adj_G1 = create_adjacency_matrix(G1)\n",
    "    adj_G2 = create_adjacency_matrix(G2)\n",
    "\n",
    "    # list of all possible permutations of the vertices in G2\n",
    "    vertex_permutations = permutations(range(len(G2)))\n",
    "\n",
    "    # checking each permutation\n",
    "    for perm in vertex_permutations:\n",
    "        # Create a new graph by permuting the vertices of G2\n",
    "        G2_perm = [[adj_G2[i][j] for i in perm] for j in perm]\n",
    "\n",
    "        # checking if the permuted graph is the same as G1\n",
    "        if adj_G1 == G2_perm:\n",
    "            return True\n",
    "\n",
    "    return False\n",
    "\n",
    "G1 = {'A': ['B', 'C'], 'B': ['A', 'C'], 'C': ['A', 'B']}\n",
    "G2 = {'X': ['Y', 'Z'], 'Y': ['X', 'Z'], 'Z': ['X', 'Y']}\n",
    "\n",
    "result = are_isomorphic(G1, G2)\n",
    "\n",
    "if result:\n",
    "    print(\"Both graphs are isomorphic!\")\n",
    "else:\n",
    "    print(\"Graphs are non isomorphic!\")\n"
   ]
  },
  {
   "cell_type": "code",
   "execution_count": null,
   "metadata": {},
   "outputs": [],
   "source": []
  }
 ],
 "metadata": {
  "kernelspec": {
   "display_name": "base",
   "language": "python",
   "name": "python3"
  },
  "language_info": {
   "codemirror_mode": {
    "name": "ipython",
    "version": 3
   },
   "file_extension": ".py",
   "mimetype": "text/x-python",
   "name": "python",
   "nbconvert_exporter": "python",
   "pygments_lexer": "ipython3",
   "version": "3.9.13"
  }
 },
 "nbformat": 4,
 "nbformat_minor": 2
}
