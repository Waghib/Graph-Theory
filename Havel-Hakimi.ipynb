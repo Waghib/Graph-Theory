{
 "cells": [
  {
   "cell_type": "code",
   "execution_count": 1,
   "metadata": {},
   "outputs": [
    {
     "name": "stdout",
     "output_type": "stream",
     "text": [
      "[6, 5, 5, 4, 3, 3, 2, 2, 2, 2] --sort-> [6, 5, 5, 4, 3, 3, 2, 2, 2, 2]\n",
      "[5, 5, 4, 3, 3, 2, 2, 2, 2] --alg--> [4, 4, 3, 2, 2, 1, 2, 2, 2]\n",
      "[4, 4, 3, 2, 2, 1, 2, 2, 2] --sort-> [4, 4, 3, 2, 2, 2, 2, 2, 1]\n",
      "[4, 3, 2, 2, 2, 2, 2, 1] --alg--> [3, 2, 1, 1, 2, 2, 2, 1]\n",
      "[3, 2, 1, 1, 2, 2, 2, 1] --sort-> [3, 2, 2, 2, 2, 1, 1, 1]\n",
      "[2, 2, 2, 2, 1, 1, 1] --alg--> [1, 1, 1, 2, 1, 1, 1]\n",
      "[1, 1, 1, 2, 1, 1, 1] --sort-> [2, 1, 1, 1, 1, 1, 1]\n",
      "[1, 1, 1, 1, 1, 1] --alg--> [0, 0, 1, 1, 1, 1]\n",
      "[0, 0, 1, 1, 1, 1] --sort-> [1, 1, 1, 1, 0, 0]\n",
      "[1, 1, 1, 0, 0] --alg--> [0, 1, 1, 0, 0]\n",
      "[0, 1, 1, 0, 0] --sort-> [1, 1, 0, 0, 0]\n",
      "[1, 0, 0, 0] --alg--> [0, 0, 0, 0]\n",
      "[0, 0, 0, 0] --sort-> [0, 0, 0, 0]\n",
      "Degree sequence 1 is graphical\n",
      "\n",
      "\n",
      "\n",
      "[7, 6, 4, 4, 4, 3, 2, 1] --sort-> [7, 6, 4, 4, 4, 3, 2, 1]\n",
      "[6, 4, 4, 4, 3, 2, 1] --alg--> [5, 3, 3, 3, 2, 1, 0]\n",
      "[5, 3, 3, 3, 2, 1, 0] --sort-> [5, 3, 3, 3, 2, 1, 0]\n",
      "[3, 3, 3, 2, 1, 0] --alg--> [2, 2, 2, 1, 0, 0]\n",
      "[2, 2, 2, 1, 0, 0] --sort-> [2, 2, 2, 1, 0, 0]\n",
      "[2, 2, 1, 0, 0] --alg--> [1, 1, 1, 0, 0]\n",
      "[1, 1, 1, 0, 0] --sort-> [1, 1, 1, 0, 0]\n",
      "[1, 1, 0, 0] --alg--> [0, 1, 0, 0]\n",
      "[0, 1, 0, 0] --sort-> [1, 0, 0, 0]\n",
      "[0, 0, 0] --alg--> \n",
      "Degree sequence 2 is not graphical\n"
     ]
    }
   ],
   "source": [
    "def is_graphical_havel_hakimi(degree_sequence):\n",
    "    \"\"\"Recursively determines if a degree sequence is graphical using the Havel-Hakimi algorithm.\n",
    "\n",
    "    Args:\n",
    "        degree_sequence: A list of integers representing the degrees of vertices.\n",
    "\n",
    "    Returns:\n",
    "        True if the degree sequence is graphical, False otherwise.\n",
    "    \"\"\"\n",
    "    print(degree_sequence, \"--sort-> \", end=\"\")\n",
    "    degree_sequence.sort(reverse=True)  # Sort in descending order\n",
    "    print(degree_sequence)\n",
    "\n",
    "    if degree_sequence[0] == 0:  # Base case: All degrees are 0\n",
    "        return True\n",
    "\n",
    "    d = degree_sequence.pop(0)  # Extract the highest degree 'd'\n",
    "\n",
    "    if d > len(degree_sequence):  # Not enough vertices to satisfy 'd' connections\n",
    "        return False\n",
    "\n",
    "    # Reduce the degrees of the next 'd' vertices\n",
    "    print(degree_sequence, \"--alg--> \", end=\"\")\n",
    "    for i in range(d):\n",
    "        degree_sequence[i] -= 1\n",
    "        if degree_sequence[i] < 0:\n",
    "            return False\n",
    "        \n",
    "    print(degree_sequence)\n",
    "        \n",
    "\n",
    "    # Recursive call with the modified degree sequence\n",
    "    return is_graphical_havel_hakimi(degree_sequence)\n",
    "\n",
    "\n",
    "# Test Cases\n",
    "global degree_sequence1\n",
    "global degree_sequence2 \n",
    "degree_sequence1 = [6, 5, 5, 4, 3, 3, 2, 2, 2, 2]\n",
    "degree_sequence2 = [7, 6, 4, 4, 4, 3, 2, 1]\n",
    "\n",
    "if is_graphical_havel_hakimi(degree_sequence1.copy()):\n",
    "    print(\"Degree sequence 1 is graphical\")\n",
    "else:\n",
    "    print(\"Degree sequence 1 is not graphical\")\n",
    "\n",
    "print(\"\\n\\n\")\n",
    "\n",
    "if is_graphical_havel_hakimi(degree_sequence2.copy()):\n",
    "    print(\"Degree sequence 2 is graphical\")\n",
    "else:\n",
    "    print(\"\\nDegree sequence 2 is not graphical\")"
   ]
  },
  {
   "cell_type": "code",
   "execution_count": null,
   "metadata": {},
   "outputs": [],
   "source": []
  }
 ],
 "metadata": {
  "kernelspec": {
   "display_name": "base",
   "language": "python",
   "name": "python3"
  },
  "language_info": {
   "codemirror_mode": {
    "name": "ipython",
    "version": 3
   },
   "file_extension": ".py",
   "mimetype": "text/x-python",
   "name": "python",
   "nbconvert_exporter": "python",
   "pygments_lexer": "ipython3",
   "version": "3.9.13"
  }
 },
 "nbformat": 4,
 "nbformat_minor": 2
}
